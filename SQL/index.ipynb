{
 "cells": [
  {
   "cell_type": "code",
   "execution_count": 1,
   "metadata": {},
   "outputs": [],
   "source": [
    "from pyspark import SparkContext, SparkConf\n",
    "from pyspark.sql import SparkSession\n",
    "import pandas as pd\n",
    "spark = SparkSession.builder.appName('Process Comment').getOrCreate()"
   ]
  },
  {
   "cell_type": "code",
   "execution_count": 2,
   "metadata": {},
   "outputs": [],
   "source": [
    "product = spark.read.parquet('hdfs://cris:9000/shopee/Product')"
   ]
  },
  {
   "cell_type": "code",
   "execution_count": 3,
   "metadata": {},
   "outputs": [],
   "source": [
    "product.createOrReplaceTempView(\"product\")"
   ]
  },
  {
   "cell_type": "code",
   "execution_count": 4,
   "metadata": {},
   "outputs": [
    {
     "name": "stdout",
     "output_type": "stream",
     "text": [
      "+---------------------+\n",
      "|(sum(price) / 100000)|\n",
      "+---------------------+\n",
      "|      2.6167336224E10|\n",
      "+---------------------+\n",
      "\n"
     ]
    }
   ],
   "source": [
    "spark.sql(\"select sum(price)/100000 from product\").show()"
   ]
  },
  {
   "cell_type": "code",
   "execution_count": 6,
   "metadata": {},
   "outputs": [
    {
     "name": "stdout",
     "output_type": "stream",
     "text": [
      "+--------------------+-----------+\n",
      "|                name|liked_count|\n",
      "+--------------------+-----------+\n",
      "|Áo Bra Tập Gym Si...|   329924.0|\n",
      "|Áo Khoác Nam - Áo...|   172168.0|\n",
      "|Balo nam dáng to ...|   159254.0|\n",
      "|giày thể thao nữ ...|   158567.0|\n",
      "|Điều hòa mini - q...|   158461.0|\n",
      "|Quần Lót Nữ ❤️FRE...|   149079.0|\n",
      "|Quần ống rộng cul...|   139872.0|\n",
      "|Dụng Cụ Chống Ngá...|   135806.0|\n",
      "|Ví Nữ Ngắn Cầm Ta...|   135183.0|\n",
      "|Dán mặt lưng iPho...|   134434.0|\n",
      "|Giày thể thao nam...|   132280.0|\n",
      "|Giày thể thao nam...|   132108.0|\n",
      "|Ví Nữ Ngắn Cầm Ta...|   127683.0|\n",
      "|THẺ NHỚ SD SANDIS...|   126832.0|\n",
      "|[FREE SHIP] Áo kh...|   126182.0|\n",
      "|Quần Lót Nữ Đúc S...|   126080.0|\n",
      "|Váy bầu thời tran...|   123854.0|\n",
      "|Quần lót nữ thun ...|   121156.0|\n",
      "|Tã dán/bỉm quần h...|   112862.0|\n",
      "|💥HOT💥 Tai nghe ...|   111446.0|\n",
      "+--------------------+-----------+\n",
      "only showing top 20 rows\n",
      "\n"
     ]
    }
   ],
   "source": [
    "spark.sql(\"\"\"select name, sum(liked_count) as liked_count from product\n",
    "            group by name order by liked_count desc\n",
    "\"\"\").show()"
   ]
  },
  {
   "cell_type": "code",
   "execution_count": 8,
   "metadata": {},
   "outputs": [
    {
     "name": "stdout",
     "output_type": "stream",
     "text": [
      "+--------------------+-------------+\n",
      "|                name|number_sample|\n",
      "+--------------------+-------------+\n",
      "|Ấm Siêu Tốc Thái ...|           86|\n",
      "|NỒI ÁP SUẤT💖 ĐA ...|           73|\n",
      "|SET 5 HỘP KÈM RỔ ...|           70|\n",
      "|BÀN LÀ HƠI NƯỚC C...|           67|\n",
      "|Máy Đánh Trứng Cầ...|           65|\n",
      "+--------------------+-------------+\n",
      "only showing top 5 rows\n",
      "\n"
     ]
    }
   ],
   "source": [
    "# Top 5 sản phẩm phổ biến nhất\n",
    "spark.sql(\"\"\"select name, count(name) as number_sample from product\n",
    "            group by name order by number_sample desc\n",
    "\"\"\").show(5)"
   ]
  },
  {
   "cell_type": "code",
   "execution_count": null,
   "metadata": {},
   "outputs": [],
   "source": [
    "# Top 5 sản phẩm phổ biến nhất\n",
    "spark.sql(\"\"\" select rating_sta\n",
    "\"\"\").show(5)"
   ]
  }
 ],
 "metadata": {
  "interpreter": {
   "hash": "df0c47fc68ffbbf60d61484e788c5fda40d927438cafb86813efe033e797683a"
  },
  "kernelspec": {
   "display_name": "Python 3.8.8 64-bit ('base': conda)",
   "language": "python",
   "name": "python3"
  },
  "language_info": {
   "codemirror_mode": {
    "name": "ipython",
    "version": 3
   },
   "file_extension": ".py",
   "mimetype": "text/x-python",
   "name": "python",
   "nbconvert_exporter": "python",
   "pygments_lexer": "ipython3",
   "version": "3.8.8"
  },
  "orig_nbformat": 4
 },
 "nbformat": 4,
 "nbformat_minor": 2
}
