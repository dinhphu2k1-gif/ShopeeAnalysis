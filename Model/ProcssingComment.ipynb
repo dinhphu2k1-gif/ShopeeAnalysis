{
 "cells": [
  {
   "cell_type": "code",
   "execution_count": 1,
   "metadata": {},
   "outputs": [],
   "source": [
    "import csv\n",
    "from tqdm import tqdm\n",
    "import pandas as pd\n",
    "# from torch.utils.data import TensorDataset, DataLoader, RandomSampler, SequentialSampler\n",
    "# import torch\n",
    "# from transformers import AutoModel, AutoTokenizer\n",
    "from vncorenlp import VnCoreNLP"
   ]
  },
  {
   "cell_type": "code",
   "execution_count": null,
   "metadata": {},
   "outputs": [],
   "source": [
    "from pyspark import SparkContext, SparkConf\n",
    "SparkContext.setSystemProperty('spark.executor.memory', '2g')\n",
    "conf = SparkConf().setAppName(\"Process Comment\").setMaster(\"spark://25.15.27.228:7077\")\n",
    "sc = SparkContext.getOrCreate(conf=conf)"
   ]
  },
  {
   "cell_type": "code",
   "execution_count": null,
   "metadata": {},
   "outputs": [],
   "source": [
    "from pyspark import SparkContext, SparkConf\n",
    "from pyspark.sql import SparkSession\n",
    "spark = SparkSession.builder.appName('Process Comment').getOrCreate()"
   ]
  },
  {
   "cell_type": "code",
   "execution_count": null,
   "metadata": {},
   "outputs": [],
   "source": [
    "class ProcssComment:\n",
    "    def __init__(self,sc,spark,type = 'Comment'):\n",
    "        self.sc = sc\n",
    "        self.type = type\n",
    "        self.spark = spark\n",
    "        self.URI           = self.sc._gateway.jvm.java.net.URI\n",
    "        self.Path          = self.sc._gateway.jvm.org.apache.hadoop.fs.Path\n",
    "        self.FileSystem    = self.sc._gateway.jvm.org.apache.hadoop.fs.FileSystem\n",
    "        self.Configuration = self.sc._gateway.jvm.org.apache.hadoop.conf.Configuration\n",
    "        # self.device = torch.device(\"cuda\" if torch.cuda.is_available() else \"cpu\")\n",
    "        # self.phobert = AutoModel.from_pretrained(\"vinai/phobert-base\").to(self.device)\n",
    "        # self.tokenizer_phobert = AutoTokenizer.from_pretrained(\"vinai/phobert-base\", use_fast=False)\n",
    "        self.rdrsegmenter = VnCoreNLP(\"vncorenlp/VnCoreNLP-1.1.1.jar\", annotators=\"wseg\", max_heap_size='-Xmx500m')\n",
    "        self.getList()\n",
    "        self.rates = ['1','2','3','4','5']\n",
    "        self.dictRate = {}\n",
    "\n",
    "    def getList(self):\n",
    "        fs = self.FileSystem.get(self.URI(\"hdfs://cris:9000\"), self.Configuration())\n",
    "        status = fs.listStatus(self.Path(f'/shopee/{self.type}'))\n",
    "        pathProducts = []\n",
    "        for fileStatus in status:\n",
    "            pathProducts.append(str(fileStatus.getPath()))\n",
    "        self.path = pathProducts[1:]\n",
    "    \n",
    "    def processComment(self):\n",
    "        for i in tqdm(range(len(self.path))):\n",
    "            url = self.path[i]\n",
    "\n",
    "            parDF2 = self.spark.read.parquet(url)\n",
    "            cols = ['comment','rating_star']\n",
    "            data = parDF2[cols].toPandas()\n",
    "            for rate in self.rates:\n",
    "                index = data[data['rating_star']==rate].index\n",
    "                if index.shape[0] !=0:\n",
    "                    if rate not in self.dictRate.keys():\n",
    "                        self.dictRate[rate] = data.loc[index,:]\n",
    "                    elif self.dictRate[rate].shape[0] < 50000:\n",
    "                        self.dictRate[rate] = pd.concat([self.dictRate[rate],data.loc[index,:]],axis = 0)\n",
    "\n",
    "\n",
    "\n",
    "\n",
    "\n",
    "            # data = self.getFeature(data,'comment')\n",
    "            # return data\n",
    "            # try:\n",
    "            #     self.uploadHdfs(data)\n",
    "            # except Exception as e:\n",
    "            #     print(f'Error when upload to HDFS {e}')\n",
    "\n",
    "    \n",
    "    def getFeature(self,data,col):\n",
    "        for x in tqdm(range(data.shape[0])):\n",
    "            sentences = self.rdrsegmenter.tokenize(data[col].iloc[x])\n",
    "            tmp = []\n",
    "            for sentence in sentences:\n",
    "                arr = \" \".join(sentence)\n",
    "                tmp.append(arr)\n",
    "            data.loc[x,col] = ' '.join(tmp)\n",
    "\n",
    "        return data\n",
    "    \n",
    "\n",
    "\n",
    "    def uploadHdfs(self,data):\n",
    "        data = spark.createDataFrame(data.astype(str))\n",
    "        data.coalesce(1).write.mode('append').parquet(f'hdfs://cris:9000/ProcessShopee/{self.type}/')\n",
    "        print('Done upload HDFS')\n",
    "    \n",
    "    "
   ]
  },
  {
   "cell_type": "code",
   "execution_count": null,
   "metadata": {},
   "outputs": [],
   "source": [
    "comment = ProcssComment(sc,spark)"
   ]
  },
  {
   "cell_type": "code",
   "execution_count": null,
   "metadata": {},
   "outputs": [],
   "source": [
    "comment.processComment()"
   ]
  }
 ],
 "metadata": {
  "interpreter": {
   "hash": "df0c47fc68ffbbf60d61484e788c5fda40d927438cafb86813efe033e797683a"
  },
  "kernelspec": {
   "display_name": "Python 3.8.8 64-bit ('base': conda)",
   "language": "python",
   "name": "python3"
  },
  "language_info": {
   "codemirror_mode": {
    "name": "ipython",
    "version": 3
   },
   "file_extension": ".py",
   "mimetype": "text/x-python",
   "name": "python",
   "nbconvert_exporter": "python",
   "pygments_lexer": "ipython3",
   "version": "3.8.8"
  },
  "orig_nbformat": 4
 },
 "nbformat": 4,
 "nbformat_minor": 2
}
