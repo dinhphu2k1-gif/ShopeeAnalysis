{
 "cells": [
  {
   "cell_type": "code",
   "execution_count": 1,
   "metadata": {},
   "outputs": [],
   "source": [
    "from kafka import KafkaProducer\n",
    "import requests\n",
    "from json import dumps\n",
    "import time\n",
    "from kafka import KafkaConsumer\n",
    "from json import loads\n",
    "import pandas as pd"
   ]
  },
  {
   "cell_type": "code",
   "execution_count": 2,
   "metadata": {},
   "outputs": [],
   "source": [
    "consumer = KafkaConsumer(\n",
    "    'Product',\n",
    "     bootstrap_servers=['127.0.0.1:9092'],\n",
    "     auto_offset_reset='earliest',\n",
    "     enable_auto_commit=True,\n",
    "     group_id='my-group',\n",
    "     value_deserializer=lambda x: loads(x.decode('utf-8')))"
   ]
  },
  {
   "cell_type": "code",
   "execution_count": 3,
   "metadata": {},
   "outputs": [],
   "source": [
    "from pyspark import SparkContext, SparkConf\n",
    "\n",
    "conf = SparkConf().setAppName(\"Upload Product to HDFS\").setMaster(\"spark://25.15.27.228:7077\")\n",
    "sc = SparkContext.getOrCreate(conf=conf)"
   ]
  },
  {
   "cell_type": "code",
   "execution_count": 4,
   "metadata": {},
   "outputs": [],
   "source": [
    "from pyspark.sql import SparkSession\n",
    "spark = SparkSession.builder.appName('Upload Product to HDFS').getOrCreate()"
   ]
  },
  {
   "cell_type": "code",
   "execution_count": 5,
   "metadata": {},
   "outputs": [
    {
     "name": "stdout",
     "output_type": "stream",
     "text": [
      "1000\n"
     ]
    }
   ],
   "source": [
    "df = []\n",
    "iter = 0\n",
    "for message in consumer:\n",
    "    iter +=1\n",
    "    message = message.value\n",
    "    df.append(message)\n",
    "    if iter %1000 ==0:\n",
    "        iter = 0\n",
    "        print(len(df))\n",
    "    if len(df) > 5000:\n",
    "        print('Upload Product to HDFS')\n",
    "        try:\n",
    "            pandas_df = pd.DataFrame(df)\n",
    "            df = []\n",
    "            data = spark.createDataFrame(pandas_df.astype(str))\n",
    "            data.coalesce(1).write.mode('append').parquet('hdfs://cris:9000/shopee/Product/')\n",
    "        except:\n",
    "            print('Error when upload data to HDFS')"
   ]
  },
  {
   "cell_type": "code",
   "execution_count": null,
   "metadata": {},
   "outputs": [],
   "source": [
    "len(df)"
   ]
  },
  {
   "cell_type": "code",
   "execution_count": 7,
   "metadata": {},
   "outputs": [],
   "source": [
    "pandas_df = pd.DataFrame(df)\n",
    "data = spark.createDataFrame(pandas_df.astype(str))\n",
    "data.coalesce(1).write.mode('append').csv('hdfs://cris:9000/shopee/Item/')"
   ]
  },
  {
   "cell_type": "code",
   "execution_count": 68,
   "metadata": {},
   "outputs": [],
   "source": [
    "# tmp = spark.read.csv('hdfs://cris:9000/shopee/Item/part-00000-ad86ee4c-be73-4872-9f2f-88c1a8cae58f-c000.csv')"
   ]
  },
  {
   "cell_type": "code",
   "execution_count": null,
   "metadata": {},
   "outputs": [],
   "source": []
  }
 ],
 "metadata": {
  "interpreter": {
   "hash": "df0c47fc68ffbbf60d61484e788c5fda40d927438cafb86813efe033e797683a"
  },
  "kernelspec": {
   "display_name": "Python 3.8.8 64-bit ('base': conda)",
   "language": "python",
   "name": "python3"
  },
  "language_info": {
   "codemirror_mode": {
    "name": "ipython",
    "version": 3
   },
   "file_extension": ".py",
   "mimetype": "text/x-python",
   "name": "python",
   "nbconvert_exporter": "python",
   "pygments_lexer": "ipython3",
   "version": "3.8.8"
  },
  "orig_nbformat": 4
 },
 "nbformat": 4,
 "nbformat_minor": 2
}
