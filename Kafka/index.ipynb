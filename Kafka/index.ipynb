{
 "cells": [
  {
   "cell_type": "code",
   "execution_count": 1,
   "metadata": {},
   "outputs": [],
   "source": [
    "import sys\n",
    "sys.path.append('../CrawlData')\n",
    "\n",
    "import requests\n",
    "from json import dumps\n"
   ]
  },
  {
   "cell_type": "code",
   "execution_count": 2,
   "metadata": {},
   "outputs": [],
   "source": [
    "\n",
    "from GetItemShopID import getItemShopID\n",
    "from GetVoucher import getVoucher"
   ]
  },
  {
   "cell_type": "code",
   "execution_count": 3,
   "metadata": {},
   "outputs": [],
   "source": [
    "import pandas as pd\n",
    "categoryList = pd.read_csv('../CrawlData/Data/categoryList.csv')\n",
    "topic = categoryList.catid.iloc[0]\n",
    "ItemListID = getItemShopID(topic,0)"
   ]
  },
  {
   "cell_type": "code",
   "execution_count": 4,
   "metadata": {},
   "outputs": [
    {
     "name": "stdout",
     "output_type": "stream",
     "text": [
      "topic 2 \"Điện Thoại & Phụ Kiện\" is runing...\n"
     ]
    },
    {
     "name": "stderr",
     "output_type": "stream",
     "text": [
      "100%|██████████| 60/60 [04:54<00:00,  4.91s/it]\n"
     ]
    }
   ],
   "source": [
    "a = 2\n",
    "b = 4\n",
    "for item in range(a,b):\n",
    "    topic = categoryList.catid.iloc[item]\n",
    "    print(f'topic {item} \"{categoryList.display_name.iloc[item]}\" is runing...')\n",
    "    for newest in range(0,8001,60):\n",
    "        ItemListID = getItemShopID(topic,newest)\n",
    "        data = getVoucher(ItemListID,topic)\n",
    "        break\n",
    "    break"
   ]
  },
  {
   "cell_type": "code",
   "execution_count": null,
   "metadata": {},
   "outputs": [],
   "source": []
  }
 ],
 "metadata": {
  "interpreter": {
   "hash": "7f26b69fd59e86c13f857afa74183160e6b0d23d34cf469864e91c384133b0a7"
  },
  "kernelspec": {
   "display_name": "Python 3.8.5 64-bit ('scrapy': conda)",
   "language": "python",
   "name": "python3"
  },
  "language_info": {
   "codemirror_mode": {
    "name": "ipython",
    "version": 3
   },
   "file_extension": ".py",
   "mimetype": "text/x-python",
   "name": "python",
   "nbconvert_exporter": "python",
   "pygments_lexer": "ipython3",
   "version": "3.8.8"
  },
  "orig_nbformat": 4
 },
 "nbformat": 4,
 "nbformat_minor": 2
}
