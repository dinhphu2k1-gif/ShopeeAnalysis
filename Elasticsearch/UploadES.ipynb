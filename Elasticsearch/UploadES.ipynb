{
 "cells": [
  {
   "cell_type": "code",
   "execution_count": 93,
   "metadata": {},
   "outputs": [],
   "source": [
    "from elasticsearch import Elasticsearch, helpers\n",
    "import csv\n",
    "from tqdm import tqdm\n",
    "import pandas as pd\n",
    "import gensim"
   ]
  },
  {
   "cell_type": "code",
   "execution_count": 2,
   "metadata": {},
   "outputs": [],
   "source": [
    "from pyspark import SparkContext, SparkConf\n",
    "SparkContext.setSystemProperty('spark.executor.memory', '3g')\n",
    "conf = SparkConf().setAppName(\"Upload to Elasticsearch\").setMaster(\"spark://25.15.27.228:7077\")\n",
    "sc = SparkContext.getOrCreate(conf=conf)"
   ]
  },
  {
   "cell_type": "code",
   "execution_count": 3,
   "metadata": {},
   "outputs": [],
   "source": [
    "from pyspark import SparkContext, SparkConf\n",
    "from pyspark.sql import SparkSession\n",
    "spark = SparkSession.builder.appName('Upload to Elasticsearch').getOrCreate()"
   ]
  },
  {
   "cell_type": "code",
   "execution_count": 97,
   "metadata": {},
   "outputs": [],
   "source": [
    "class ProcssProduct:\n",
    "    def __init__(self,sc,spark,type = 'Product'):\n",
    "        self.sc = sc\n",
    "        self.type = type\n",
    "        self.spark = spark\n",
    "        self.URI           = self.sc._gateway.jvm.java.net.URI\n",
    "        self.Path          = self.sc._gateway.jvm.org.apache.hadoop.fs.Path\n",
    "        self.FileSystem    = self.sc._gateway.jvm.org.apache.hadoop.fs.FileSystem\n",
    "        self.Configuration = self.sc._gateway.jvm.org.apache.hadoop.conf.Configuration\n",
    "        self.colsProduct = ['historical_sold','raw_discount', 'attributes','shop_location','show_free_shipping', 'name','cmt_count', 'price', 'item_rating','show_shopee_verified_label','liked_count']\n",
    "        self.es = Elasticsearch(host = \"25.15.27.228\", port = 9200,timeout=30,max_retries=10, retry_on_timeout=True)\n",
    "        self.iter = 1\n",
    "        self.source = pd.read_csv('../CrawlData/Data/categoryList.csv')\n",
    "        self.source = self.source[['catid','display_name']]\n",
    "\n",
    "        self.getList()\n",
    "    def getList(self):\n",
    "        fs = self.FileSystem.get(self.URI(\"hdfs://cris:9000\"), self.Configuration())\n",
    "        status = fs.listStatus(self.Path(f'/shopee/{self.type}'))\n",
    "        pathProducts = []\n",
    "        for fileStatus in status:\n",
    "            pathProducts.append(str(fileStatus.getPath()))\n",
    "        self.path = pathProducts[1:]\n",
    "\n",
    "    def processProduct(self,data):\n",
    "        data['price'] = data['price'].astype(float)/100000\n",
    "        data['rating_star'] = data.item_rating.apply(lambda x: eval(x)['rating_star'])\n",
    "        data.drop(columns=['attributes','item_rating'],inplace=True)\n",
    "        return data\n",
    "    def uploadProduct(self):\n",
    "        for url in self.path:\n",
    "            parDF2 = self.spark.read.parquet(url)\n",
    "\n",
    "            if self.type == 'Product':\n",
    "                tmp = parDF2[self.colsProduct].toPandas()\n",
    "                data = self.processProduct(tmp)\n",
    "                cols = ['historical_sold','raw_discount','cmt_count','price','liked_count','rating_star']\n",
    "                data[cols] = data[cols].astype(float)\n",
    "                try:\n",
    "                    self.uploadHdfs(data)\n",
    "                except Exception as e:\n",
    "                    print(f'Error when upload to HDFS {e}')\n",
    "            elif self.type == 'Voucher':\n",
    "                data = self.processShiping(parDF2)\n",
    "                data = [data]\n",
    "                tmp = pd.DataFrame(data)\n",
    "                dictRename = dict()\n",
    "                for colName in list(tmp.columns):\n",
    "                    lines = gensim.utils.simple_preprocess(colName)\n",
    "                    lines = ' '.join(lines)\n",
    "                    alisName = lines.split()\n",
    "                    alisName = \"_\".join(alisName)\n",
    "                    dictRename[colName] = alisName\n",
    "                tmp = tmp.rename(columns= dictRename)\n",
    "                try:\n",
    "                    self.uploadHdfs(tmp)\n",
    "                except Exception as e:\n",
    "                    print(f'Error when upload to HDFS {e}')\n",
    "            \n",
    "            data = self.spark.createDataFrame(data)\n",
    "            data = data.toJSON().collect()\n",
    "\n",
    "            self.uploadES(data)\n",
    "\n",
    "    def processShiping(self,data):\n",
    "        data = data.toPandas()\n",
    "        data['new'] = data.in_country.apply(lambda x: eval(x))\n",
    "        data.topic = data.topic.astype(int)\n",
    "        data = pd.merge(data,self.source,left_on='topic',right_on='catid')\n",
    "        transport = dict()\n",
    "        data = data.fillna(0)\n",
    "        for x in range(data.shape[0]):\n",
    "            tmp = data.iloc[x]['new']\n",
    "            if tmp!=0:\n",
    "                for item in tmp:\n",
    "                    if item['name'] not in transport.keys():\n",
    "                        transport[item['name']] = 1\n",
    "                    else:\n",
    "                        transport[item['name']] += 1\n",
    "        transport['topic'] = data.iloc[0]['display_name']\n",
    "        return transport\n",
    "\n",
    "    def uploadHdfs(self,data):\n",
    "        data = spark.createDataFrame(data.astype(str))\n",
    "        data.coalesce(1).write.mode('append').parquet(f'hdfs://cris:9000/ProcessShopee/{self.type}/')\n",
    "        print('Done upload HDFS')\n",
    "            \n",
    "    def uploadES(self,data):\n",
    "        index = self.type.lower()\n",
    "        for item in tqdm(range(len(data))) :\n",
    "            try:\n",
    "                self.es.index(index=index, doc_type='data', id=self.iter, body=data[item])\n",
    "                self.iter += 1\n",
    "            except:\n",
    "                print('Error when upload to ES')\n",
    "    \n",
    "    "
   ]
  },
  {
   "cell_type": "code",
   "execution_count": 98,
   "metadata": {},
   "outputs": [],
   "source": [
    "product = ProcssProduct(sc,spark,'Product')"
   ]
  },
  {
   "cell_type": "code",
   "execution_count": 99,
   "metadata": {},
   "outputs": [],
   "source": [
    "product.uploadProduct()"
   ]
  },
  {
   "cell_type": "code",
   "execution_count": 100,
   "metadata": {},
   "outputs": [],
   "source": [
    "# product = ProcssProduct(sc,spark,'Voucher')"
   ]
  },
  {
   "cell_type": "code",
   "execution_count": 102,
   "metadata": {},
   "outputs": [],
   "source": [
    "# data = product.uploadProduct()"
   ]
  },
  {
   "cell_type": "code",
   "execution_count": 6,
   "metadata": {},
   "outputs": [],
   "source": [
    "# cols = ['description']"
   ]
  },
  {
   "cell_type": "code",
   "execution_count": 8,
   "metadata": {},
   "outputs": [],
   "source": [
    "# data = parDF2[cols].toPandas()"
   ]
  },
  {
   "cell_type": "code",
   "execution_count": null,
   "metadata": {},
   "outputs": [],
   "source": []
  }
 ],
 "metadata": {
  "interpreter": {
   "hash": "df0c47fc68ffbbf60d61484e788c5fda40d927438cafb86813efe033e797683a"
  },
  "kernelspec": {
   "display_name": "Python 3.8.8 64-bit ('base': conda)",
   "language": "python",
   "name": "python3"
  },
  "language_info": {
   "codemirror_mode": {
    "name": "ipython",
    "version": 3
   },
   "file_extension": ".py",
   "mimetype": "text/x-python",
   "name": "python",
   "nbconvert_exporter": "python",
   "pygments_lexer": "ipython3",
   "version": "3.8.8"
  },
  "orig_nbformat": 4
 },
 "nbformat": 4,
 "nbformat_minor": 2
}
