{
 "cells": [
  {
   "cell_type": "code",
   "execution_count": 1,
   "metadata": {},
   "outputs": [],
   "source": [
    "from elasticsearch import Elasticsearch, helpers\n",
    "import csv"
   ]
  },
  {
   "cell_type": "code",
   "execution_count": 2,
   "metadata": {},
   "outputs": [
    {
     "name": "stdout",
     "output_type": "stream",
     "text": [
      "hello\n"
     ]
    }
   ],
   "source": [
    "from pyspark import SparkContext, SparkConf\n",
    "\n",
    "conf = SparkConf().setAppName(\"Upload to Elasticsearch\").setMaster(\"spark://25.15.27.228:7077\")\n",
    "sc = SparkContext.getOrCreate(conf=conf)\n",
    "print('hello')"
   ]
  },
  {
   "cell_type": "code",
   "execution_count": 3,
   "metadata": {},
   "outputs": [],
   "source": [
    "from pyspark import SparkContext, SparkConf\n",
    "from pyspark.sql import SparkSession\n",
    "spark = SparkSession.builder.appName('Upload to Elasticsearch').getOrCreate()"
   ]
  },
  {
   "cell_type": "code",
   "execution_count": 6,
   "metadata": {},
   "outputs": [],
   "source": [
    "class ProcssProduct:\n",
    "    def __init__(self,sc,spark,type = 'Product'):\n",
    "        self.sc = sc\n",
    "        self.type = type\n",
    "        self.spark = spark\n",
    "        self.URI           = self.sc._gateway.jvm.java.net.URI\n",
    "        self.Path          = self.sc._gateway.jvm.org.apache.hadoop.fs.Path\n",
    "        self.FileSystem    = self.sc._gateway.jvm.org.apache.hadoop.fs.FileSystem\n",
    "        self.Configuration = self.sc._gateway.jvm.org.apache.hadoop.conf.Configuration\n",
    "        self.colsProduct = ['historical_sold','raw_discount', 'attributes','shop_location','show_free_shipping', 'name','cmt_count', 'price', 'item_rating','show_shopee_verified_label','liked_count']\n",
    "        self.es = Elasticsearch(host = \"25.19.134.189\", port = 9200,timeout=30,max_retries=10, retry_on_timeout=True)\n",
    "\n",
    "        self.getList()\n",
    "    def getList(self):\n",
    "        fs = self.FileSystem.get(self.URI(\"hdfs://cris:9000\"), self.Configuration())\n",
    "        status = fs.listStatus(self.Path(f'/shopee/{self.type}'))\n",
    "        pathProducts = []\n",
    "        for fileStatus in status:\n",
    "            pathProducts.append(str(fileStatus.getPath()))\n",
    "        self.path = pathProducts[1:]\n",
    "\n",
    "    def processProduct(self,data):\n",
    "        data['price'] = data['price'].astype(float)/100000\n",
    "        data['rating_star'] = data.item_rating.apply(lambda x: eval(x)['rating_star'])\n",
    "        data.drop(columns=['attributes','item_rating'],inplace=True)\n",
    "        return data\n",
    "    def uploadProduct(self):\n",
    "        for url in self.path:\n",
    "            parDF2 = self.spark.read.parquet(url)\n",
    "            tmp = parDF2[self.colsProduct].toPandas()\n",
    "            data = self.processProduct(tmp)\n",
    "            try:\n",
    "                self.uploadHdfs(data)\n",
    "            except:\n",
    "                print('Error when upload to HDFS')\n",
    "            data = self.spark.createDataFrame(data)\n",
    "            data = data.toJSON().collect()\n",
    "            try:\n",
    "                self.uploadES(data)\n",
    "            except:\n",
    "                print('Error when upload to ES')\n",
    "\n",
    "    def uploadHdfs(self,data):\n",
    "        data = spark.createDataFrame(data.astype(str))\n",
    "        data.coalesce(1).write.mode('append').parquet(f'hdfs://cris:9000/ProcessShopee/{self.type}/')\n",
    "        print('Done upload HDFS')\n",
    "            \n",
    "    def uploadES(self,data):\n",
    "        index = self.type.lower()\n",
    "        i = 1\n",
    "        for item in data :\n",
    "            self.es.index(index=index, doc_type='data', id=i, body=item)\n",
    "            i = i + 1\n",
    "    \n",
    "    "
   ]
  },
  {
   "cell_type": "code",
   "execution_count": 7,
   "metadata": {},
   "outputs": [],
   "source": [
    "product = ProcssProduct(sc,spark,'Product')"
   ]
  },
  {
   "cell_type": "code",
   "execution_count": null,
   "metadata": {},
   "outputs": [],
   "source": [
    "product.uploadProduct()"
   ]
  },
  {
   "cell_type": "code",
   "execution_count": null,
   "metadata": {},
   "outputs": [],
   "source": []
  }
 ],
 "metadata": {
  "interpreter": {
   "hash": "df0c47fc68ffbbf60d61484e788c5fda40d927438cafb86813efe033e797683a"
  },
  "kernelspec": {
   "display_name": "Python 3.8.8 64-bit ('base': conda)",
   "language": "python",
   "name": "python3"
  },
  "language_info": {
   "codemirror_mode": {
    "name": "ipython",
    "version": 3
   },
   "file_extension": ".py",
   "mimetype": "text/x-python",
   "name": "python",
   "nbconvert_exporter": "python",
   "pygments_lexer": "ipython3",
   "version": "3.8.8"
  },
  "orig_nbformat": 4
 },
 "nbformat": 4,
 "nbformat_minor": 2
}
