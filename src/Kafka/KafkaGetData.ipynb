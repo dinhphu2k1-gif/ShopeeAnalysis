{
 "cells": [
  {
   "cell_type": "code",
   "execution_count": 1,
   "metadata": {},
   "outputs": [],
   "source": [
    "import sys\n",
    "sys.path.append('../CrawlData')\n",
    "from kafka import KafkaProducer\n",
    "import requests\n",
    "from json import dumps\n",
    "import time\n",
    "from kafka import KafkaConsumer"
   ]
  },
  {
   "cell_type": "code",
   "execution_count": 2,
   "metadata": {},
   "outputs": [],
   "source": [
    "from GetItemDetail import getItemDetail\n",
    "from GetItemShopID import getItemShopID"
   ]
  },
  {
   "cell_type": "code",
   "execution_count": 3,
   "metadata": {},
   "outputs": [],
   "source": [
    "import pandas as pd\n",
    "categoryList = pd.read_csv('../CrawlData/Data/categoryList.csv')"
   ]
  },
  {
   "cell_type": "code",
   "execution_count": 4,
   "metadata": {},
   "outputs": [],
   "source": [
    "from kafka import KafkaProducer\n",
    "import requests\n",
    "from json import dumps\n",
    "import time\n",
    "from kafka import KafkaConsumer"
   ]
  },
  {
   "cell_type": "code",
   "execution_count": 5,
   "metadata": {},
   "outputs": [],
   "source": [
    "producer = KafkaProducer(bootstrap_servers=['127.0.0.1:9092'],\n",
    "                         value_serializer=lambda x: \n",
    "                         dumps(x).encode('utf-8'))"
   ]
  },
  {
   "cell_type": "code",
   "execution_count": null,
   "metadata": {},
   "outputs": [],
   "source": [
    "# from a - b category\n",
    "a = 1\n",
    "b = 11\n",
    "for item in range(a,b):\n",
    "    topic = categoryList.catid.iloc[item]\n",
    "    print(f'topic {item} \"{categoryList.display_name.iloc[item]}\" is runing...')\n",
    "    for newest in range(0,8001,60):\n",
    "        ItemListID = getItemShopID(topic,newest)\n",
    "        data = getItemDetail(ItemListID,topic)\n",
    "        time.sleep(0.5)\n",
    "        for item in data:\n",
    "            producer.send('shopee', value=item)"
   ]
  },
  {
   "cell_type": "code",
   "execution_count": 8,
   "metadata": {},
   "outputs": [],
   "source": [
    "# import json\n",
    "# from urllib.request import urlopen, Request\n",
    "\n",
    "\n",
    "# def get_comment(ItemListID, timeout=10):\n",
    "#     features = ['orderid', 'itemid', 'cmtid', 'ctime', 'rating', 'userid', 'shopid', \n",
    "#             'comment', 'rating_star', 'status', 'mtime', 'editable', 'opt', 'filter']\n",
    "\n",
    "#     url = 'https://shopee.vn/api/v2/item/get_ratings?filter=0&flag=0&itemid={}&limit=6&offset={}&shopid={}&type=0'\n",
    "    \n",
    "#     out_put_data = []\n",
    "    \n",
    "#     for itemid, shopid in ItemListID:\n",
    "#         try:\n",
    "#             rep = Request(url.format(itemid, 0, shopid), headers={'User-Agent': 'Mozilla/5.0'})\n",
    "#             page = urlopen(rep, timeout=timeout).read()\n",
    "#             data = json.loads(page)\n",
    "#             rating_total = data['data']['item_rating_summary']['rating_total']\n",
    "#         except:\n",
    "#             print('exception requests: ', itemid, shopid)\n",
    "#             continue\n",
    "\n",
    "\n",
    "#         for offset in range(0, rating_total, 6):\n",
    "\n",
    "#             try:\n",
    "#                 rep = Request(url.format(itemid, offset, shopid), headers={'User-Agent': 'Mozilla/5.0'})\n",
    "#                 page = urlopen(rep, timeout=timeout).read()\n",
    "#                 data = json.loads(page)\n",
    "\n",
    "#                 for cmt in data['data']['ratings']:\n",
    "#                     comment = {}\n",
    "#                     for ft in features:\n",
    "#                         comment[ft] = cmt[ft]\n",
    "#                     out_put_data.append(comment)\n",
    "\n",
    "#             except:\n",
    "#                 print(\"exception:\", itemid, offset, shopid)\n",
    "\n",
    "    \n",
    "#     return out_put_data"
   ]
  },
  {
   "cell_type": "code",
   "execution_count": 9,
   "metadata": {},
   "outputs": [],
   "source": [
    "test = get_comment([[6758420150, 187524700]])"
   ]
  },
  {
   "cell_type": "code",
   "execution_count": 14,
   "metadata": {},
   "outputs": [],
   "source": [
    "tmp = pd.DataFrame(test)"
   ]
  },
  {
   "cell_type": "code",
   "execution_count": 16,
   "metadata": {},
   "outputs": [
    {
     "data": {
      "text/plain": [
       "array([5, 4, 3])"
      ]
     },
     "execution_count": 16,
     "metadata": {},
     "output_type": "execute_result"
    }
   ],
   "source": [
    "tmp.rating_star.unique()"
   ]
  },
  {
   "cell_type": "code",
   "execution_count": 17,
   "metadata": {},
   "outputs": [
    {
     "data": {
      "text/plain": [
       "array([1, 0])"
      ]
     },
     "execution_count": 17,
     "metadata": {},
     "output_type": "execute_result"
    }
   ],
   "source": [
    "tmp.rating.unique()"
   ]
  },
  {
   "cell_type": "code",
   "execution_count": null,
   "metadata": {},
   "outputs": [],
   "source": []
  }
 ],
 "metadata": {
  "interpreter": {
   "hash": "df0c47fc68ffbbf60d61484e788c5fda40d927438cafb86813efe033e797683a"
  },
  "kernelspec": {
   "display_name": "Python 3.8.8 64-bit ('base': conda)",
   "language": "python",
   "name": "python3"
  },
  "language_info": {
   "codemirror_mode": {
    "name": "ipython",
    "version": 3
   },
   "file_extension": ".py",
   "mimetype": "text/x-python",
   "name": "python",
   "nbconvert_exporter": "python",
   "pygments_lexer": "ipython3",
   "version": "3.8.8"
  },
  "orig_nbformat": 4
 },
 "nbformat": 4,
 "nbformat_minor": 2
}
