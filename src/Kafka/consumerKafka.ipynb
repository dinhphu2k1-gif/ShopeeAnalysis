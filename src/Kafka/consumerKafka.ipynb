{
 "cells": [
  {
   "cell_type": "code",
   "execution_count": 3,
   "metadata": {},
   "outputs": [],
   "source": [
    "from kafka import KafkaProducer\n",
    "import requests\n",
    "from json import dumps\n",
    "import time\n",
    "from kafka import KafkaConsumer\n",
    "from json import loads"
   ]
  },
  {
   "cell_type": "code",
   "execution_count": 4,
   "metadata": {},
   "outputs": [],
   "source": [
    "consumer = KafkaConsumer(\n",
    "    'test',\n",
    "     bootstrap_servers=['127.0.0.1:9092'],\n",
    "     auto_offset_reset='earliest',\n",
    "     enable_auto_commit=True,\n",
    "     consumer_timeout_ms = 3000,\n",
    "     group_id='my-group',\n",
    "     value_deserializer=lambda x: loads(x.decode('utf-8')))"
   ]
  },
  {
   "cell_type": "code",
   "execution_count": 6,
   "metadata": {},
   "outputs": [],
   "source": [
    "data = {}\n",
    "for message in consumer:\n",
    "    message = message.value\n",
    "    tmp = message"
   ]
  },
  {
   "cell_type": "code",
   "execution_count": 10,
   "metadata": {},
   "outputs": [],
   "source": [
    "import pandas as pd\n",
    "test = pd.DataFrame(tmp['data'])"
   ]
  },
  {
   "cell_type": "code",
   "execution_count": 13,
   "metadata": {},
   "outputs": [
    {
     "data": {
      "text/plain": [
       "60"
      ]
     },
     "execution_count": 13,
     "metadata": {},
     "output_type": "execute_result"
    }
   ],
   "source": [
    "len(tmp['data'])"
   ]
  },
  {
   "cell_type": "code",
   "execution_count": 18,
   "metadata": {},
   "outputs": [],
   "source": [
    "a = []\n",
    "a.extend(tmp['data'])\n",
    "a.extend(tmp['data'])"
   ]
  },
  {
   "cell_type": "code",
   "execution_count": 23,
   "metadata": {},
   "outputs": [],
   "source": [
    "tmp = pd.DataFrame(a)"
   ]
  },
  {
   "cell_type": "code",
   "execution_count": 30,
   "metadata": {},
   "outputs": [
    {
     "data": {
      "text/plain": [
       "0"
      ]
     },
     "execution_count": 30,
     "metadata": {},
     "output_type": "execute_result"
    }
   ],
   "source": [
    "tmp.brand_id.iloc[0]"
   ]
  },
  {
   "cell_type": "code",
   "execution_count": 29,
   "metadata": {},
   "outputs": [
    {
     "data": {
      "text/plain": [
       "Index(['itemid', 'shopid', 'userid', 'price_max_before_discount',\n",
       "       'has_lowest_price_guarantee', 'price_before_discount',\n",
       "       'price_min_before_discount', 'exclusive_price_info',\n",
       "       'hidden_price_display', 'price_min', 'price_max', 'price', 'stock',\n",
       "       'discount', 'historical_sold', 'sold', 'show_discount', 'raw_discount',\n",
       "       'min_purchase_limit', 'overall_purchase_limit', 'pack_size',\n",
       "       'is_live_streaming_price', 'name', 'ctime', 'item_status', 'status',\n",
       "       'condition', 'catid', 'description', 'is_mart',\n",
       "       'show_shopee_verified_label', 'size_chart', 'reference_item_id',\n",
       "       'brand', 'item_rating', 'label_ids', 'attributes', 'liked',\n",
       "       'liked_count', 'cmt_count', 'flag', 'shopee_verified', 'is_adult',\n",
       "       'is_preferred_plus_seller', 'tier_variations', 'bundle_deal_id',\n",
       "       'can_use_bundle_deal', 'add_on_deal_info', 'bundle_deal_info',\n",
       "       'can_use_wholesale', 'wholesale_tier_list', 'is_group_buy_item',\n",
       "       'group_buy_info', 'welcome_package_type', 'welcome_package_info',\n",
       "       'tax_code', 'invoice_option', 'complaint_policy', 'images', 'image',\n",
       "       'video_info_list', 'item_type', 'is_official_shop',\n",
       "       'show_official_shop_label_in_title', 'shop_location', 'coin_earn_label',\n",
       "       'cb_option', 'is_pre_order', 'estimated_days', 'badge_icon_type',\n",
       "       'show_free_shipping', 'shipping_icon_type', 'cod_flag',\n",
       "       'show_original_guarantee', 'categories', 'other_stock', 'item_has_post',\n",
       "       'discount_stock', 'current_promotion_has_reserve_stock',\n",
       "       'current_promotion_reserved_stock', 'normal_stock', 'brand_id',\n",
       "       'is_alcohol_product', 'show_recycling_info', 'coin_info', 'models',\n",
       "       'spl_info', 'preview_info', 'fe_categories', 'presale_info',\n",
       "       'is_cc_installment_payment_eligible',\n",
       "       'is_non_cc_installment_payment_eligible', 'flash_sale',\n",
       "       'upcoming_flash_sale', 'deep_discount', 'has_low_fulfillment_rate',\n",
       "       'is_partial_fulfilled', 'makeups', 'shop_vouchers', 'global_sold'],\n",
       "      dtype='object')"
      ]
     },
     "execution_count": 29,
     "metadata": {},
     "output_type": "execute_result"
    }
   ],
   "source": [
    "tmp.columns"
   ]
  },
  {
   "cell_type": "code",
   "execution_count": null,
   "metadata": {},
   "outputs": [],
   "source": []
  }
 ],
 "metadata": {
  "interpreter": {
   "hash": "df0c47fc68ffbbf60d61484e788c5fda40d927438cafb86813efe033e797683a"
  },
  "kernelspec": {
   "display_name": "Python 3.8.8 64-bit ('base': conda)",
   "language": "python",
   "name": "python3"
  },
  "language_info": {
   "codemirror_mode": {
    "name": "ipython",
    "version": 3
   },
   "file_extension": ".py",
   "mimetype": "text/x-python",
   "name": "python",
   "nbconvert_exporter": "python",
   "pygments_lexer": "ipython3",
   "version": "3.8.8"
  },
  "orig_nbformat": 4
 },
 "nbformat": 4,
 "nbformat_minor": 2
}
