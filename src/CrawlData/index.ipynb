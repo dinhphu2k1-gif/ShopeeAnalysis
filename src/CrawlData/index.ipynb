{
 "cells": [
  {
   "cell_type": "code",
   "execution_count": 1,
   "metadata": {},
   "outputs": [],
   "source": [
    "import requests \n",
    "import json\n",
    "import pandas as pd \n",
    "from tqdm import tqdm"
   ]
  },
  {
   "cell_type": "markdown",
   "metadata": {},
   "source": [
    "Category List"
   ]
  },
  {
   "cell_type": "code",
   "execution_count": 17,
   "metadata": {},
   "outputs": [],
   "source": [
    "url = \"https://shopee.vn/api/v4/pages/get_homepage_category_list\"\n",
    "data = requests.get(url).content\n",
    "data = json.loads(data)['data'][\"category_list\"]"
   ]
  },
  {
   "cell_type": "code",
   "execution_count": 18,
   "metadata": {},
   "outputs": [],
   "source": [
    "categoryList = pd.DataFrame(data)"
   ]
  },
  {
   "cell_type": "code",
   "execution_count": 19,
   "metadata": {},
   "outputs": [
    {
     "data": {
      "text/html": [
       "<div>\n",
       "<style scoped>\n",
       "    .dataframe tbody tr th:only-of-type {\n",
       "        vertical-align: middle;\n",
       "    }\n",
       "\n",
       "    .dataframe tbody tr th {\n",
       "        vertical-align: top;\n",
       "    }\n",
       "\n",
       "    .dataframe thead th {\n",
       "        text-align: right;\n",
       "    }\n",
       "</style>\n",
       "<table border=\"1\" class=\"dataframe\">\n",
       "  <thead>\n",
       "    <tr style=\"text-align: right;\">\n",
       "      <th></th>\n",
       "      <th>catid</th>\n",
       "      <th>parent_catid</th>\n",
       "      <th>name</th>\n",
       "      <th>display_name</th>\n",
       "      <th>image</th>\n",
       "      <th>unselected_image</th>\n",
       "      <th>selected_image</th>\n",
       "      <th>level</th>\n",
       "      <th>children</th>\n",
       "      <th>block_buyer_platform</th>\n",
       "    </tr>\n",
       "  </thead>\n",
       "  <tbody>\n",
       "    <tr>\n",
       "      <th>0</th>\n",
       "      <td>11035567</td>\n",
       "      <td>0</td>\n",
       "      <td>Men Clothes</td>\n",
       "      <td>Thời Trang Nam</td>\n",
       "      <td>687f3967b7c2fe6a134a2c11894eea4b</td>\n",
       "      <td>fe2d27d140e1f34855c1bfe3168c1b58</td>\n",
       "      <td>9131b98c529e7ccfffc36193432aa927</td>\n",
       "      <td>1</td>\n",
       "      <td>None</td>\n",
       "      <td>None</td>\n",
       "    </tr>\n",
       "    <tr>\n",
       "      <th>1</th>\n",
       "      <td>11035639</td>\n",
       "      <td>0</td>\n",
       "      <td>Women Clothes</td>\n",
       "      <td>Thời Trang Nữ</td>\n",
       "      <td>75ea42f9eca124e9cb3cde744c060e4d</td>\n",
       "      <td>293ca6f400001a38f477ef1c8ebe2831</td>\n",
       "      <td>7002b396e4d22be3decacceeef762265</td>\n",
       "      <td>1</td>\n",
       "      <td>None</td>\n",
       "      <td>None</td>\n",
       "    </tr>\n",
       "    <tr>\n",
       "      <th>2</th>\n",
       "      <td>11036030</td>\n",
       "      <td>0</td>\n",
       "      <td>Mobile &amp; Gadgets</td>\n",
       "      <td>Điện Thoại &amp; Phụ Kiện</td>\n",
       "      <td>31234a27876fb89cd522d7e3db1ba5ca</td>\n",
       "      <td>94fb4fb95a8598e8d31f0853f904c15b</td>\n",
       "      <td>070098d9b3cf1a1d35be2a6ef1bb3cd0</td>\n",
       "      <td>1</td>\n",
       "      <td>None</td>\n",
       "      <td>None</td>\n",
       "    </tr>\n",
       "    <tr>\n",
       "      <th>3</th>\n",
       "      <td>11036194</td>\n",
       "      <td>0</td>\n",
       "      <td>Moms, Kids &amp; Babies</td>\n",
       "      <td>Mẹ &amp; Bé</td>\n",
       "      <td>099edde1ab31df35bc255912bab54a5e</td>\n",
       "      <td>f91ae14aebd454762ab61136ebcec4e0</td>\n",
       "      <td>9b56c2810b51f8a017b76c3cefc84daf</td>\n",
       "      <td>1</td>\n",
       "      <td>None</td>\n",
       "      <td>None</td>\n",
       "    </tr>\n",
       "    <tr>\n",
       "      <th>4</th>\n",
       "      <td>11036132</td>\n",
       "      <td>0</td>\n",
       "      <td>Consumer Electronics</td>\n",
       "      <td>Thiết Bị Điện Tử</td>\n",
       "      <td>978b9e4cb61c611aaaf58664fae133c5</td>\n",
       "      <td>4a6a4d8230cf961e18636fbf91bad4b5</td>\n",
       "      <td>067bd7ff52bd0d3700d9b0af722e83c9</td>\n",
       "      <td>1</td>\n",
       "      <td>None</td>\n",
       "      <td>None</td>\n",
       "    </tr>\n",
       "  </tbody>\n",
       "</table>\n",
       "</div>"
      ],
      "text/plain": [
       "      catid  parent_catid                  name           display_name  \\\n",
       "0  11035567             0           Men Clothes         Thời Trang Nam   \n",
       "1  11035639             0         Women Clothes          Thời Trang Nữ   \n",
       "2  11036030             0      Mobile & Gadgets  Điện Thoại & Phụ Kiện   \n",
       "3  11036194             0   Moms, Kids & Babies                Mẹ & Bé   \n",
       "4  11036132             0  Consumer Electronics       Thiết Bị Điện Tử   \n",
       "\n",
       "                              image                  unselected_image  \\\n",
       "0  687f3967b7c2fe6a134a2c11894eea4b  fe2d27d140e1f34855c1bfe3168c1b58   \n",
       "1  75ea42f9eca124e9cb3cde744c060e4d  293ca6f400001a38f477ef1c8ebe2831   \n",
       "2  31234a27876fb89cd522d7e3db1ba5ca  94fb4fb95a8598e8d31f0853f904c15b   \n",
       "3  099edde1ab31df35bc255912bab54a5e  f91ae14aebd454762ab61136ebcec4e0   \n",
       "4  978b9e4cb61c611aaaf58664fae133c5  4a6a4d8230cf961e18636fbf91bad4b5   \n",
       "\n",
       "                     selected_image  level children block_buyer_platform  \n",
       "0  9131b98c529e7ccfffc36193432aa927      1     None                 None  \n",
       "1  7002b396e4d22be3decacceeef762265      1     None                 None  \n",
       "2  070098d9b3cf1a1d35be2a6ef1bb3cd0      1     None                 None  \n",
       "3  9b56c2810b51f8a017b76c3cefc84daf      1     None                 None  \n",
       "4  067bd7ff52bd0d3700d9b0af722e83c9      1     None                 None  "
      ]
     },
     "execution_count": 19,
     "metadata": {},
     "output_type": "execute_result"
    }
   ],
   "source": [
    "categoryList.head()"
   ]
  },
  {
   "cell_type": "code",
   "execution_count": 20,
   "metadata": {},
   "outputs": [],
   "source": [
    "categoryList.to_csv('./Data/categoryList.csv',index=False)"
   ]
  },
  {
   "cell_type": "code",
   "execution_count": 1,
   "metadata": {},
   "outputs": [],
   "source": [
    "import pandas as pd\n",
    "categoryList = pd.read_csv('./Data/categoryList.csv')"
   ]
  },
  {
   "cell_type": "code",
   "execution_count": 2,
   "metadata": {},
   "outputs": [],
   "source": [
    "from GetItemShopID import getItemShopID"
   ]
  },
  {
   "cell_type": "code",
   "execution_count": null,
   "metadata": {},
   "outputs": [],
   "source": [
    "res = getItemShopID(categoryList.catid.iloc[0])"
   ]
  },
  {
   "cell_type": "code",
   "execution_count": 7,
   "metadata": {},
   "outputs": [],
   "source": [
    "from GetItemDetail import getItemDetail"
   ]
  },
  {
   "cell_type": "code",
   "execution_count": 8,
   "metadata": {},
   "outputs": [
    {
     "name": "stderr",
     "output_type": "stream",
     "text": [
      "100%|██████████| 120/120 [00:44<00:00,  2.69it/s]\n"
     ]
    }
   ],
   "source": [
    "data = getItemDetail(res)"
   ]
  },
  {
   "cell_type": "code",
   "execution_count": null,
   "metadata": {},
   "outputs": [],
   "source": []
  }
 ],
 "metadata": {
  "interpreter": {
   "hash": "df0c47fc68ffbbf60d61484e788c5fda40d927438cafb86813efe033e797683a"
  },
  "kernelspec": {
   "display_name": "Python 3.8.8 64-bit ('base': conda)",
   "language": "python",
   "name": "python3"
  },
  "language_info": {
   "codemirror_mode": {
    "name": "ipython",
    "version": 3
   },
   "file_extension": ".py",
   "mimetype": "text/x-python",
   "name": "python",
   "nbconvert_exporter": "python",
   "pygments_lexer": "ipython3",
   "version": "3.8.8"
  },
  "orig_nbformat": 4
 },
 "nbformat": 4,
 "nbformat_minor": 2
}
